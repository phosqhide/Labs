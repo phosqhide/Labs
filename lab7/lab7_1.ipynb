{
 "cells": [
  {
   "cell_type": "markdown",
   "id": "9e6f06c4-a2a8-4867-8972-58dab81c012e",
   "metadata": {},
   "source": [
    "## Lab 7 FB-33 Rudyi Artem"
   ]
  },
  {
   "cell_type": "code",
   "execution_count": 19,
   "id": "d6343c52-9d59-4f46-ac33-2d8857afa60c",
   "metadata": {},
   "outputs": [],
   "source": [
    "import os\n",
    "from sentinelhub import SHConfig\n",
    "from sentinelhub.aws import request\n",
    "import zipfile\n",
    "import subprocess\n",
    "import shutil\n",
    "import rasterio\n",
    "import shapely.wkt\n",
    "import matplotlib.pyplot as plt\n",
    "from rasterio.plot import show\n",
    "from tqdm import tqdm\n",
    "import geopandas as gpd\n",
    "from osgeo import gdal, osr"
   ]
  },
  {
   "cell_type": "markdown",
   "id": "9261e4e6-4d1b-4140-93bd-fd15a275f730",
   "metadata": {},
   "source": [
    "1. Завантажити необхідні дані Sentinel-2 (або з Copernicus SciHub, або з\n",
    "Google-диска). За допомогою бібліотеки sentinelhub написати скрипт для\n",
    "завантаження супутникових знімків Sentinel-2, які покривають Київ (ROI — POLYGON((29.073321247506765 49.845775018245774,31.986007792928522\n",
    "49.845775018245774,31.986007792928522 51.278667808079206,29.073321247506765\n",
    "51.278667808079206,29.073321247506765 49.845775018245774)) )\n",
    "   \n",
    "Список ідентифікаторів Sentinel-2:\n",
    "\n",
    "– S2A_MSIL2A_20190821T085601_N0213_R007_T36UUB_20190821T11\n",
    "5206\n",
    "\n",
    "– S2A_MSIL2A_20190821T085601_N0213_R007_T36UUA_20190821T11\n",
    "5206"
   ]
  },
  {
   "cell_type": "code",
   "execution_count": 39,
   "id": "c7b846f3-5598-4534-a6a6-8ec83e5777dc",
   "metadata": {},
   "outputs": [],
   "source": [
    "data_dir = os.path.join(os.getcwd(), \"data\")\n",
    "os.makedirs(data_dir, exist_ok=True)\n",
    "\n",
    "\n",
    "config = SHConfig()\n",
    "config.aws_access_key_id = 'secret'\n",
    "config.aws_secret_access_key = 'secret'\n",
    "config.save()\n",
    "\n",
    "\n",
    "\n",
    "def download_sentinel_data(product_id: str):\n",
    "    try:\n",
    "        print(f\"Завантаження продукту {product_id}...\")\n",
    "        request.download_safe_format(\n",
    "            product_id,\n",
    "            folder=data_dir,\n",
    "            redownload=False,\n",
    "            data_collection='sentinel-s2-l2a'\n",
    "        )\n",
    "        print(f\"Продукт {product_id} успішно завантажено.\")\n",
    "    except Exception as e:\n",
    "        print(f\"Помилка під час завантаження продукту {product_id}: {e}\")\n",
    "        \n",
    "\n",
    "product_ids = [\n",
    "    \"S2A_MSIL2A_20190821T085601_N0213_R007_T36UUB_20190821T115206\",\n",
    "    \"S2A_MSIL2A_20190821T085601_N0213_R007_T36UUA_20190821T115206\"\n",
    "]\n",
    "\n",
    "for product_id in product_ids:\n",
    "    download_sentinel_data(product_id)\n"
   ]
  },
  {
   "cell_type": "markdown",
   "id": "4fa3f035-6a22-4b67-82c5-7d92cd61821b",
   "metadata": {},
   "source": [
    " Засобами командного рядка операційної системи (демонстраційні приклади розглянуті для ОС Windows), а також за допомогою бінаріїв бібліотеки GDAL розробити автоматичний сценарій, який здійснюватиме обробку даних ДЗЗ, відповідно до поставлених завдань. Для виконання команд gdal у сценарії Python можна використовувати бібліотеки os та command."
   ]
  },
  {
   "cell_type": "markdown",
   "id": "fe42e31b-8684-48f9-9d0f-779b7e7c3ee2",
   "metadata": {},
   "source": [
    "1. Розпакування наборів архівів з продуктами ДЗЗ в новостворені папки,\n",
    "назви яких відповідатимуть ідентифікаторам зображень."
   ]
  },
  {
   "cell_type": "code",
   "execution_count": 4,
   "id": "83f93bea-21f6-4f81-b7e5-1a42d045bba5",
   "metadata": {},
   "outputs": [
    {
     "name": "stdout",
     "output_type": "stream",
     "text": [
      "Архіви не знайдені. Перевірка папок з .SAFE буде виконана.\n",
      "Папка /home/arten/Desktop/lab7/data/S2A_MSIL2A_20190821T085601_N0213_R007_T36UUA_20190821T115206.SAFE перейменована в /home/arten/Desktop/lab7/data/S2A_MSIL2A_20190821T085601_N0213_R007_T36UUA_20190821T1\n",
      "Папка /home/arten/Desktop/lab7/data/S2A_MSIL2A_20190821T085601_N0213_R007_T36UUB_20190821T115206.SAFE перейменована в /home/arten/Desktop/lab7/data/S2A_MSIL2A_20190821T085601_N0213_R007_T36UUB_20190821T1\n"
     ]
    }
   ],
   "source": [
    "def extract_archives_to_named_folders(folder_path):\n",
    "    archive_extensions = ('.zip',)\n",
    "    archives = [f for f in os.listdir(folder_path) if f.lower().endswith(archive_extensions)]\n",
    "\n",
    "    \n",
    "    if not archives:\n",
    "        print(\"Архіви не знайдені. Перевірка папок з .SAFE буде виконана.\")\n",
    "\n",
    "    for archive in archives:\n",
    "        archive_path = os.path.join(folder_path, archive)\n",
    "        product_id = os.path.splitext(archive)[0]\n",
    "        extract_to = os.path.join(folder_path, product_id)\n",
    "\n",
    "        if not os.path.exists(extract_to):\n",
    "            os.makedirs(extract_to)\n",
    "\n",
    "        print(f\"Розпаковується: {archive} -> {extract_to}\")\n",
    "        with zipfile.ZipFile(archive_path, 'r') as zip_ref:\n",
    "            zip_ref.extractall(extract_to)\n",
    "        print(f\"Успішно розпаковано в {extract_to}\")\n",
    "\n",
    "    \n",
    "    for folder in os.listdir(folder_path):\n",
    "        safe_folder = os.path.join(folder_path, folder)\n",
    "        if os.path.isdir(safe_folder) and folder.lower().endswith(\".safe\"):\n",
    "            new_folder_name = os.path.join(folder_path, folder[:-10])  \n",
    "            if not os.path.exists(new_folder_name):\n",
    "                shutil.move(safe_folder, new_folder_name)  \n",
    "                print(f\"Папка {safe_folder} перейменована в {new_folder_name}\")\n",
    "\n",
    "\n",
    "extract_archives_to_named_folders(\"/home/arten/Desktop/lab7/data\")\n"
   ]
  },
  {
   "cell_type": "markdown",
   "id": "b9644d9e-1175-4a97-af6f-892144515d05",
   "metadata": {},
   "source": [
    "2. Конкатенація каналів видимого, ближнього та середнього\n",
    "інфрачервоного спектральних діапазонів (канали 2, 3, 4 та 8) зображення в\n",
    "єдиний GEOTIFF файл."
   ]
  },
  {
   "cell_type": "code",
   "execution_count": 7,
   "id": "3ceb4031-3e1a-440b-b6eb-1eb7cc7bf757",
   "metadata": {},
   "outputs": [
    {
     "name": "stdout",
     "output_type": "stream",
     "text": [
      "0...10...20...30...40...50...60...70...80...90...100 - done.\n",
      "0...10...20...30...40...50...60...70...80...90...100 - done.\n",
      "A збережено як /home/arten/Desktop/lab7/data/merged_T36UUA.tif\n",
      "B збережено як /home/arten/Desktop/lab7/data/merged_T36UUB.tif\n"
     ]
    }
   ],
   "source": [
    "path_A = \"/home/arten/Desktop/lab7/data/S2A_MSIL2A_20190821T085601_N0213_R007_T36UUA_20190821T1/GRANULE/L2A_T36UUA_A021740_20190821T085815/IMG_DATA/R10m\"\n",
    "path_B = \"/home/arten/Desktop/lab7/data/S2A_MSIL2A_20190821T085601_N0213_R007_T36UUB_20190821T1/GRANULE/L2A_T36UUB_A021740_20190821T085815/IMG_DATA/R10m\"\n",
    "\n",
    "channels_B = [\n",
    "    \"T36UUB_20190821T085601_B02_10m.jp2\",\n",
    "    \"T36UUB_20190821T085601_B03_10m.jp2\",\n",
    "    \"T36UUB_20190821T085601_B04_10m.jp2\",\n",
    "    \"T36UUB_20190821T085601_B08_10m.jp2\"\n",
    "]\n",
    "\n",
    "channels_A = [\n",
    "    \"T36UUA_20190821T085601_B02_10m.jp2\",\n",
    "    \"T36UUA_20190821T085601_B03_10m.jp2\",\n",
    "    \"T36UUA_20190821T085601_B04_10m.jp2\",\n",
    "    \"T36UUA_20190821T085601_B08_10m.jp2\"\n",
    "]\n",
    "\n",
    "\n",
    "input_files_A = [\n",
    "    os.path.join(path_A, channel) for channel in channels_A\n",
    "]\n",
    "\n",
    "input_files_B = [\n",
    "    os.path.join(path_B, channel) for channel in channels_B\n",
    "]\n",
    "\n",
    "\n",
    "output_path_A = \"/home/arten/Desktop/lab7/data/merged_T36UUA.tif\"\n",
    "output_path_B = \"/home/arten/Desktop/lab7/data/merged_T36UUB.tif\"\n",
    "\n",
    "\n",
    "command_A = [\n",
    "    \"/usr/bin/gdal_merge.py\",  \n",
    "    \"-separate\",\n",
    "    \"-o\", output_path_A\n",
    "] + input_files_A\n",
    "\n",
    "\n",
    "command_B = [\n",
    "    \"/usr/bin/gdal_merge.py\",  \n",
    "    \"-separate\",\n",
    "    \"-o\", output_path_B\n",
    "] + input_files_B\n",
    "\n",
    "\n",
    "subprocess.run(command_A, check=True)\n",
    "subprocess.run(command_B, check=True)\n",
    "\n",
    "print(f\"A збережено як {output_path_A}\")\n",
    "print(f\"B збережено як {output_path_B}\")\n"
   ]
  },
  {
   "cell_type": "code",
   "execution_count": 14,
   "id": "b67d4924-6ce7-4bc8-bb4e-8d97f0475262",
   "metadata": {},
   "outputs": [],
   "source": [
    "def display_tif_images(directory, cmap='inferno'):\n",
    "    if not os.path.exists(directory):\n",
    "        print(f\"Directory '{directory}' does not exist.\")\n",
    "        return\n",
    "    \n",
    "    \n",
    "    for filename in os.listdir(directory):\n",
    "        if filename.endswith('.tif'):\n",
    "            filepath = os.path.join(directory, filename)\n",
    "            \n",
    "            \n",
    "            with rasterio.open(filepath) as dataset:\n",
    "                print(f\"Displaying {filename}\")\n",
    "                fig, ax = plt.subplots(figsize=(10, 8))\n",
    "                img = show(dataset, ax=ax, cmap=cmap)\n",
    "                \n",
    "                \n",
    "                ax.set_title(f\"TIF Image: {filename}\")\n",
    "                \n",
    "                plt.show()"
   ]
  },
  {
   "cell_type": "code",
   "execution_count": 1,
   "id": "0304f5a5-18b2-4c51-9445-fe4be9f64543",
   "metadata": {},
   "outputs": [
    {
     "ename": "NameError",
     "evalue": "name 'display_tif_images' is not defined",
     "output_type": "error",
     "traceback": [
      "\u001b[31m---------------------------------------------------------------------------\u001b[39m",
      "\u001b[31mNameError\u001b[39m                                 Traceback (most recent call last)",
      "\u001b[36mCell\u001b[39m\u001b[36m \u001b[39m\u001b[32mIn[1]\u001b[39m\u001b[32m, line 3\u001b[39m\n\u001b[32m      1\u001b[39m directory_path = \u001b[33m'\u001b[39m\u001b[33m/home/arten/Desktop/lab7/data/tif\u001b[39m\u001b[33m'\u001b[39m\n\u001b[32m----> \u001b[39m\u001b[32m3\u001b[39m \u001b[43mdisplay_tif_images\u001b[49m(directory_path, cmap=\u001b[33m'\u001b[39m\u001b[33mhot\u001b[39m\u001b[33m'\u001b[39m)\n",
      "\u001b[31mNameError\u001b[39m: name 'display_tif_images' is not defined"
     ]
    }
   ],
   "source": [
    "directory_path = '/home/arten/Desktop/lab7/data/tif'\n",
    "\n",
    "display_tif_images(directory_path, cmap='hot')"
   ]
  },
  {
   "cell_type": "markdown",
   "id": "98df8b73-67ec-4ea4-aaa4-acc8e481c9b1",
   "metadata": {},
   "source": [
    "2. Перепроектування супутникового зображення у проєкцію 4326."
   ]
  },
  {
   "cell_type": "code",
   "execution_count": 5,
   "id": "f6444711-ea92-41a9-b134-24ba35301700",
   "metadata": {},
   "outputs": [
    {
     "name": "stdout",
     "output_type": "stream",
     "text": [
      "Creating output file that is 13331P x 8421L.\n",
      "Processing /home/arten/Desktop/lab7/data/tif/merged_T36UUB.tif [1/1] : 0...10...20...30...40...50...60...70...80...90...100 - done.\n",
      "Файл перепроектовано та збережено як: /home/arten/Desktop/lab7/data/tif/merged_T36UUB_reproj.tif\n"
     ]
    }
   ],
   "source": [
    "def reproject_tiff(input_path, output_path=None, target_epsg=\"EPSG:4326\"):\n",
    "    if not output_path:\n",
    "        base, ext = os.path.splitext(input_path)\n",
    "        output_path = f\"{base}_reproj{ext}\"\n",
    "    \n",
    "    try:\n",
    "        subprocess.run([\n",
    "            \"gdalwarp\",\n",
    "            \"-t_srs\", target_epsg,\n",
    "            input_path,\n",
    "            output_path\n",
    "        ], check=True)\n",
    "        print(f\"Файл перепроектовано та збережено як: {output_path}\")\n",
    "    except subprocess.CalledProcessError as e:\n",
    "        print(f\"Помилка перепроектування: {e}\")\n",
    "\n",
    "\n",
    "reproject_tiff(\"/home/arten/Desktop/lab7/data/tif/merged_T36UUB.tif\")"
   ]
  },
  {
   "cell_type": "code",
   "execution_count": null,
   "id": "f43f0db0-77ac-4b73-b0d2-cdcdd58961cf",
   "metadata": {},
   "outputs": [
    {
     "name": "stdout",
     "output_type": "stream",
     "text": [
      "Displaying merged_T36UUA.tif\n"
     ]
    }
   ],
   "source": [
    "directory_path = '/home/arten/Desktop/lab7/data/tif/merged_T36UUB.tif'\n",
    "\n",
    "display_tif_images(directory_path, cmap='hot')"
   ]
  },
  {
   "cell_type": "markdown",
   "id": "0a866f32-2966-4746-b63c-c3781e9d0609",
   "metadata": {},
   "source": [
    "3. Конкатенація всіх отриманих растрів у один 4-канальний файл TIFF."
   ]
  },
  {
   "cell_type": "code",
   "execution_count": 7,
   "id": "33d32c4d-da69-40b3-9f6d-7f63369a3555",
   "metadata": {},
   "outputs": [
    {
     "name": "stdout",
     "output_type": "stream",
     "text": [
      "0...10...20...30...40...50...60...70...80...90...100 - done.\n",
      "Збережено в /home/arten/Desktop/lab7/data/tif/output_merged.tif\n"
     ]
    }
   ],
   "source": [
    "def merge_rasters_with_gdal(input_files, output_file):\n",
    "    command = ['gdal_merge.py', '-separate', '-o', output_file] + input_files\n",
    "    \n",
    "    try:\n",
    "        subprocess.run(command, check=True)\n",
    "        print(f\"Збережено в {output_file}\")\n",
    "    except subprocess.CalledProcessError as e:\n",
    "        print(f\"Помилка: {e}\")\n",
    "\n",
    "\n",
    "input_files = [\n",
    "    '/home/arten/Desktop/lab7/data/tif/merged_T36UUA_reproj.tif',\n",
    "    '/home/arten/Desktop/lab7/data/tif/merged_T36UUB_reproj.tif',\n",
    "    \n",
    "]\n",
    "\n",
    "output_file = '/home/arten/Desktop/lab7/data/tif/output_merged.tif'\n",
    "\n",
    "merge_rasters_with_gdal(input_files, output_file)"
   ]
  },
  {
   "cell_type": "code",
   "execution_count": 9,
   "id": "a1795ba5-28e4-4f07-add2-a9854a1422d3",
   "metadata": {},
   "outputs": [
    {
     "name": "stdout",
     "output_type": "stream",
     "text": [
      "0...10...20...30...40...50...60...70...80...90...100 - done.\n",
      "Збережено в /home/arten/Desktop/lab7/data/tif/output_merged2.tif\n"
     ]
    }
   ],
   "source": [
    "input_files = [\n",
    "    '/home/arten/Desktop/lab7/data/tif/merged_T36UUB.tif',\n",
    "    '/home/arten/Desktop/lab7/data/tif/merged_T36UUA.tif',\n",
    "    \n",
    "]\n",
    "output_file = '/home/arten/Desktop/lab7/data/tif/output_merged2.tif'\n",
    "merge_rasters_with_gdal(input_files, output_file)"
   ]
  },
  {
   "cell_type": "markdown",
   "id": "f82decc7-1c97-45ec-ad1d-5431fca0204d",
   "metadata": {},
   "source": [
    "4. Обрізання результуючого зображення по заданому векторному контуру."
   ]
  },
  {
   "cell_type": "code",
   "execution_count": 32,
   "id": "9cf88447-6700-4846-9cbc-69405c746fc0",
   "metadata": {},
   "outputs": [
    {
     "name": "stdout",
     "output_type": "stream",
     "text": [
      "Було створено .SHP файл за шляхом: /home/arten/Desktop/lab7/data/tif/Kyiv_regions.shp\n"
     ]
    }
   ],
   "source": [
    "def POLYGON_convert(directory):\n",
    "    fieldCoordinatesAsTextInWKTInEPSG4326 = \"POLYGON((29.073321247506765 49.845775018245774, \" \\\n",
    "        \"31.986007792928522 49.845775018245774, \" \\\n",
    "        \"31.986007792928522 51.278667808079206, \" \\\n",
    "        \"29.073321247506765 51.278667808079206, \" \\\n",
    "        \"29.073321247506765 49.845775018245774))\"\n",
    "    \n",
    "    if not os.path.exists(directory):\n",
    "        os.makedirs(directory, exist_ok=True)\n",
    "    \n",
    "    f_shp = os.path.join(directory, \"Kyiv_regions.shp\")\n",
    "    \n",
    "    gdf = gpd.GeoDataFrame(geometry=[shapely.wkt.loads(fieldCoordinatesAsTextInWKTInEPSG4326)])\n",
    "    gdf.set_crs(\"EPSG:4326\", allow_override=True, inplace=True)\n",
    "    \n",
    "    gdf.to_file(f_shp)\n",
    "    print(f\"Було створено .SHP файл за шляхом: {f_shp}\")\n",
    "\n",
    "directory_path = \"/home/arten/Desktop/lab7/data/tif\"\n",
    "POLYGON_convert(directory_path)"
   ]
  },
  {
   "cell_type": "code",
   "execution_count": null,
   "id": "869cb487-0812-46b6-a8df-454dd063c081",
   "metadata": {},
   "outputs": [],
   "source": []
  },
  {
   "cell_type": "code",
   "execution_count": 35,
   "id": "301ac09c-0616-46f5-86b9-74d719b4cd2f",
   "metadata": {},
   "outputs": [
    {
     "name": "stdout",
     "output_type": "stream",
     "text": [
      "Creating output file that is 21154P x 16616L.\n",
      "Processing /home/arten/Desktop/lab7/data/tif/merged_T36UUB.tif [1/1] : 0...10...20...30...40...50...60...70...80...90...100 - done.\n",
      "Raster cropped successfully and saved to /home/arten/Desktop/lab7/data/tif/merged_T36UUB_clipped.tif\n"
     ]
    }
   ],
   "source": [
    "def crop_raster_with_cutline(input_raster, cutline_shapefile):\n",
    "    if not os.path.exists(input_raster):\n",
    "        print(f\"Помилка: Растровий файл {input_raster} не знайдено.\")\n",
    "        return\n",
    "    \n",
    "    if not os.path.exists(cutline_shapefile):\n",
    "        print(f\"Помилка: Shapefile {cutline_shapefile} не знайдено.\")\n",
    "        return\n",
    "    \n",
    "    base_name = os.path.splitext(os.path.basename(input_raster))[0]\n",
    "    output_raster = os.path.join(os.path.dirname(input_raster), f\"{base_name}_clipped.tif\")\n",
    "\n",
    "    command = [\n",
    "        'gdalwarp', \n",
    "        '-cutline', cutline_shapefile, \n",
    "        '-crop_to_cutline', \n",
    "        input_raster, \n",
    "        output_raster\n",
    "    ]\n",
    "    \n",
    "\n",
    "    try:\n",
    "        subprocess.run(command, check=True)\n",
    "        print(f\"Raster cropped successfully and saved to {output_raster}\")\n",
    "    except subprocess.CalledProcessError as e:\n",
    "        print(f\"Error during raster cropping: {e}\")\n",
    "\n",
    "\n",
    "input_raster = '/home/arten/Desktop/lab7/data/tif/merged_T36UUB.tif'\n",
    "cutline_shapefile = '/home/arten/Desktop/lab7/data/tif/Kyiv_regions.shp'\n",
    "\n",
    "crop_raster_with_cutline(input_raster, cutline_shapefile)"
   ]
  },
  {
   "cell_type": "code",
   "execution_count": null,
   "id": "6584aa8a-43b7-4cb4-862e-23af5820d481",
   "metadata": {},
   "outputs": [],
   "source": [
    "directory_path = '/home/arten/Desktop/lab7/data/tif/merged_T36UUB_clipped.tif'\n",
    "\n",
    "display_tif_images(directory_path, cmap='hot')"
   ]
  }
 ],
 "metadata": {
  "kernelspec": {
   "display_name": "Python 3 (ipykernel)",
   "language": "python",
   "name": "python3"
  },
  "language_info": {
   "codemirror_mode": {
    "name": "ipython",
    "version": 3
   },
   "file_extension": ".py",
   "mimetype": "text/x-python",
   "name": "python",
   "nbconvert_exporter": "python",
   "pygments_lexer": "ipython3",
   "version": "3.12.7"
  }
 },
 "nbformat": 4,
 "nbformat_minor": 5
}
